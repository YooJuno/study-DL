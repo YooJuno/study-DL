{
 "cells": [
  {
   "cell_type": "markdown",
   "metadata": {},
   "source": [
    "# Upbit API References"
   ]
  },
  {
   "cell_type": "code",
   "execution_count": null,
   "metadata": {},
   "outputs": [],
   "source": [
    "import pyupbit\n",
    "\n",
    "# API 키 설정\n",
    "access_key = \"bDlv609eM3x7N3EyvrXTjXoCPEFGQFp8MGohMxt8\"\n",
    "secret_key = \"FnGJYLjr6R4xOxDATl5ajJUOr8BMWduxq1jD6VBL\""
   ]
  },
  {
   "cell_type": "markdown",
   "metadata": {},
   "source": [
    "### Ticker(종목) 정보 가져오기"
   ]
  },
  {
   "cell_type": "code",
   "execution_count": null,
   "metadata": {},
   "outputs": [
    {
     "name": "stdout",
     "output_type": "stream",
     "text": [
      "KRW-BTC KRW-ETH BTC-ETH BTC-XRP BTC-ETC BTC-CVC BTC-DGB BTC-SC BTC-SNT BTC-WAVES BTC-NMR BTC-XEM BTC-QTUM BTC-BAT BTC-LSK BTC-STEEM BTC-DOGE BTC-BNT BTC-XLM BTC-ARDR BTC-ARK BTC-STORJ BTC-GRS BTC-RLC USDT-BTC USDT-ETH USDT-XRP USDT-ETC KRW-NEO KRW-MTL KRW-XRP KRW-ETC KRW-SNT KRW-WAVES KRW-XEM KRW-QTUM KRW-LSK KRW-STEEM KRW-XLM KRW-ARDR KRW-ARK KRW-STORJ KRW-GRS KRW-ADA BTC-ADA BTC-MANA KRW-SBD BTC-SBD KRW-POWR BTC-POWR KRW-BTG USDT-ADA BTC-DNT BTC-ZRX BTC-TRX BTC-TUSD BTC-LRC KRW-ICX KRW-EOS USDT-TUSD KRW-TRX BTC-POLYX USDT-SC USDT-TRX KRW-SC KRW-ONT KRW-ZIL KRW-POLYX KRW-ZRX KRW-LOOM BTC-BCH USDT-BCH KRW-BCH BTC-HIFI BTC-LOOM KRW-BAT KRW-IOST USDT-DGB KRW-CVC KRW-IQ KRW-IOTA BTC-RVN BTC-GO BTC-BOUNTY BTC-ENJ KRW-HIFI KRW-ONG KRW-GAS BTC-MTL KRW-BOUNTY KRW-ELF USDT-DOGE USDT-ZRX USDT-RVN USDT-BAT KRW-KNC BTC-MOC BTC-ZIL KRW-BSV BTC-BSV BTC-IOST KRW-THETA BTC-DENT KRW-QKC BTC-ELF KRW-BTT BTC-IOTX BTC-SOLVE BTC-NKN BTC-META KRW-MOC BTC-ANKR BTC-CRO KRW-TFUEL KRW-MANA KRW-ANKR BTC-ORBS BTC-AERGO KRW-AERGO KRW-ATOM KRW-TT KRW-GAME2 BTC-ATOM BTC-STPT KRW-MBL BTC-EOS BTC-USDS BTC-SKY BTC-BORA KRW-WAXP BTC-WAXP KRW-HBAR KRW-MED BTC-MED BTC-MLK KRW-MLK KRW-STPT BTC-VET KRW-ORBS BTC-CHZ KRW-VET BTC-FX BTC-OGN KRW-CHZ BTC-XTZ BTC-HIVE BTC-HBD BTC-OBSR BTC-DKA KRW-STMX BTC-STMX BTC-AHT KRW-DKA BTC-LINK KRW-HIVE KRW-KAVA BTC-KAVA KRW-AHT KRW-LINK KRW-XTZ KRW-BORA BTC-JST BTC-CHR BTC-DAD BTC-TON KRW-JST BTC-CTSI BTC-DOT KRW-CRO BTC-COMP BTC-SXP BTC-HUNT KRW-TON BTC-LWA BTC-CRV BTC-ALGO BTC-RSR KRW-SXP BTC-OXT KRW-HUNT BTC-SAND BTC-SUN KRW-DOT BTC-QTCON BTC-MVL KRW-MVL BTC-REI BTC-AQT BTC-AXS BTC-STRAX KRW-STRAX KRW-AQT BTC-GLM KRW-GLM BTC-FCT2 KRW-META KRW-FCT2 BTC-FIL BTC-UNI BTC-INJ BTC-PROM BTC-VAL BTC-PSG BTC-JUV BTC-CBK BTC-FOR KRW-CBK BTC-BFC BTC-HPO BTC-CELO KRW-SAND KRW-HPO BTC-IQ BTC-STX KRW-DOGE BTC-NEAR BTC-AUCTION BTC-FLOW BTC-STRIKE KRW-STRIKE BTC-PUNDIX KRW-PUNDIX KRW-FLOW KRW-AXS KRW-STX BTC-GRT BTC-SNX BTC-USDP KRW-XEC KRW-SOL BTC-SOL KRW-POL BTC-POL KRW-AAVE KRW-1INCH BTC-AAVE BTC-1INCH BTC-MASK KRW-ALGO BTC-AUDIO KRW-NEAR BTC-YGG BTC-GTC BTC-OCEAN BTC-CTC BTC-LPT KRW-AVAX BTC-AVAX BTC-IMX BTC-RENDER BTC-RLY KRW-T BTC-T KRW-CELO BTC-RAD BTC-AGLD BTC-API3 BTC-ARPA BTC-ENS KRW-GMT BTC-GMT BTC-APE BTC-RAY KRW-APT BTC-APT BTC-ACM BTC-AFC BTC-ATM BTC-BAR BTC-CITY BTC-INTER BTC-NAP KRW-SHIB BTC-G BTC-ASTR BTC-BLUR KRW-MASK BTC-ACS BTC-MAGIC KRW-ARB BTC-ARB KRW-EGLD BTC-EGLD KRW-SUI BTC-SUI KRW-GRT KRW-BLUR BTC-MINA KRW-IMX BTC-STG BTC-SEI KRW-SEI BTC-CYBER BTC-GLMR KRW-MINA BTC-ID BTC-AXL KRW-CTC KRW-ASTR BTC-SPURS KRW-ID KRW-PYTH BTC-PYTH BTC-ALT BTC-POKT USDT-POKT KRW-MNT BTC-MNT USDT-MNT BTC-BIGTIME USDT-BIGTIME KRW-AKT BTC-AKT USDT-AKT KRW-ZETA BTC-ZETA USDT-ZETA BTC-OMNI USDT-OMNI BTC-OAS USDT-OAS KRW-AUCTION KRW-STG KRW-BEAM BTC-BEAM USDT-BEAM KRW-TAIKO BTC-TAIKO USDT-TAIKO KRW-USDT BTC-USDT KRW-ONDO BTC-ONDO USDT-ONDO BTC-NEO USDT-NEO BTC-GAS USDT-GAS BTC-TT BTC-GAME2 USDT-SOL KRW-ZRO BTC-ZRO USDT-ZRO KRW-BLAST BTC-BLAST USDT-BLAST KRW-JUP BTC-JUP USDT-JUP KRW-ENS KRW-G KRW-PENDLE BTC-PENDLE KRW-ATH BTC-ATH USDT-BRETT USDT-PEPE KRW-USDC BTC-USDC USDT-USDC KRW-UXLINK BTC-UXLINK USDT-UXLINK KRW-BIGTIME KRW-CKB BTC-CKB USDT-CKB BTC-MEW USDT-MEW KRW-W BTC-W USDT-W KRW-CARV BTC-CARV USDT-CARV KRW-INJ USDT-INJ KRW-MEW USDT-BONK KRW-UNI USDT-UNI KRW-SAFE BTC-SAFE USDT-SAFE KRW-DRIFT BTC-DRIFT USDT-DRIFT KRW-AGLD USDT-AGLD USDT-AHT USDT-ARPA USDT-ASTR USDT-BNT USDT-EGLD USDT-FIL USDT-LWA USDT-NEAR USDT-OXT USDT-RAD USDT-XLM KRW-PEPE KRW-BONK BTC-JASMY USDT-JASMY BTC-NCT USDT-NCT ['KRW-BTC', 'KRW-ETH', 'KRW-NEO', 'KRW-MTL', 'KRW-XRP', 'KRW-ETC', 'KRW-SNT', 'KRW-WAVES', 'KRW-XEM', 'KRW-QTUM', 'KRW-LSK', 'KRW-STEEM', 'KRW-XLM', 'KRW-ARDR', 'KRW-ARK', 'KRW-STORJ', 'KRW-GRS', 'KRW-ADA', 'KRW-SBD', 'KRW-POWR', 'KRW-BTG', 'KRW-ICX', 'KRW-EOS', 'KRW-TRX', 'KRW-SC', 'KRW-ONT', 'KRW-ZIL', 'KRW-POLYX', 'KRW-ZRX', 'KRW-LOOM', 'KRW-BCH', 'KRW-BAT', 'KRW-IOST', 'KRW-CVC', 'KRW-IQ', 'KRW-IOTA', 'KRW-HIFI', 'KRW-ONG', 'KRW-GAS', 'KRW-BOUNTY', 'KRW-ELF', 'KRW-KNC', 'KRW-BSV', 'KRW-THETA', 'KRW-QKC', 'KRW-BTT', 'KRW-MOC', 'KRW-TFUEL', 'KRW-MANA', 'KRW-ANKR', 'KRW-AERGO', 'KRW-ATOM', 'KRW-TT', 'KRW-GAME2', 'KRW-MBL', 'KRW-WAXP', 'KRW-HBAR', 'KRW-MED', 'KRW-MLK', 'KRW-STPT', 'KRW-ORBS', 'KRW-VET', 'KRW-CHZ', 'KRW-STMX', 'KRW-DKA', 'KRW-HIVE', 'KRW-KAVA', 'KRW-AHT', 'KRW-LINK', 'KRW-XTZ', 'KRW-BORA', 'KRW-JST', 'KRW-CRO', 'KRW-TON', 'KRW-SXP', 'KRW-HUNT', 'KRW-DOT', 'KRW-MVL', 'KRW-STRAX', 'KRW-AQT', 'KRW-GLM', 'KRW-META', 'KRW-FCT2', 'KRW-CBK', 'KRW-SAND', 'KRW-HPO', 'KRW-DOGE', 'KRW-STRIKE', 'KRW-PUNDIX', 'KRW-FLOW', 'KRW-AXS', 'KRW-STX', 'KRW-XEC', 'KRW-SOL', 'KRW-POL', 'KRW-AAVE', 'KRW-1INCH', 'KRW-ALGO', 'KRW-NEAR', 'KRW-AVAX', 'KRW-T', 'KRW-CELO', 'KRW-GMT', 'KRW-APT', 'KRW-SHIB', 'KRW-MASK', 'KRW-ARB', 'KRW-EGLD', 'KRW-SUI', 'KRW-GRT', 'KRW-BLUR', 'KRW-IMX', 'KRW-SEI', 'KRW-MINA', 'KRW-CTC', 'KRW-ASTR', 'KRW-ID', 'KRW-PYTH', 'KRW-MNT', 'KRW-AKT', 'KRW-ZETA', 'KRW-AUCTION', 'KRW-STG', 'KRW-BEAM', 'KRW-TAIKO', 'KRW-USDT', 'KRW-ONDO', 'KRW-ZRO', 'KRW-BLAST', 'KRW-JUP', 'KRW-ENS', 'KRW-G', 'KRW-PENDLE', 'KRW-ATH', 'KRW-USDC', 'KRW-UXLINK', 'KRW-BIGTIME', 'KRW-CKB', 'KRW-W', 'KRW-CARV', 'KRW-INJ', 'KRW-MEW', 'KRW-UNI', 'KRW-SAFE', 'KRW-DRIFT', 'KRW-AGLD', 'KRW-PEPE', 'KRW-BONK']\n"
     ]
    }
   ],
   "source": [
    "# 모든 티커(종목) 정보 가져오기\n",
    "tickers = pyupbit.get_tickers()\n",
    "print(tickers)\n",
    "\n",
    "# 원화 마켓 티커만 가져오기\n",
    "tickers_krw = pyupbit.get_tickers(fiat=\"KRW\")\n",
    "print(tickers_krw)"
   ]
  },
  {
   "cell_type": "markdown",
   "metadata": {},
   "source": [
    "### 내 계좌 정보 조회"
   ]
  },
  {
   "cell_type": "code",
   "execution_count": null,
   "metadata": {},
   "outputs": [
    {
     "name": "stdout",
     "output_type": "stream",
     "text": [
      "currency : KRW\n",
      "balance : 0.2963659\n",
      "locked : 0\n",
      "avg_buy_price : 0\n",
      "avg_buy_price_modified : True\n",
      "unit_currency : KRW\n",
      "\n",
      "currency : DOGE\n",
      "balance : 0.06207089\n",
      "locked : 0\n",
      "avg_buy_price : 81.5\n",
      "avg_buy_price_modified : False\n",
      "unit_currency : KRW\n",
      "\n"
     ]
    }
   ],
   "source": [
    "# 업비트 객체 생성\n",
    "upbit = pyupbit.Upbit(access_key, secret_key)\n",
    "\n",
    "# 계좌 정보 조회\n",
    "balances = upbit.get_balances()\n",
    "for balance in balances:\n",
    "    for item in balance.items():\n",
    "        print(item[0], ':', item[1])\n",
    "    print()\n",
    "'''\n",
    "currency : 화폐 단위 (달러, 원, 비트코인 ...)\n",
    "balance : 통장 잔고\n",
    "locked : 주문에 묶여있는 금액 (0은 묶인 금액이 없음)\n",
    "avg_buy_price : 평균 매수 가격 (원화는 자산이 아니므로 '0'으로 표시됨)\n",
    "avg_buy_price_modified : 평균 매수 가격이 수정되었는지 여부 (원화는 수정될 필요 없음)\n",
    "unit_currency : 기준 통화 (KRW는 거래가 원화로 이루어짐을 의미)\n",
    "'''"
   ]
  },
  {
   "cell_type": "markdown",
   "metadata": {},
   "source": []
  },
  {
   "cell_type": "markdown",
   "metadata": {},
   "source": [
    "### 현재가 정보 조회"
   ]
  },
  {
   "cell_type": "code",
   "execution_count": null,
   "metadata": {},
   "outputs": [],
   "source": [
    "# 관심 종목 설정\n",
    "ticker = \"KRW-BTC\""
   ]
  },
  {
   "cell_type": "code",
   "execution_count": null,
   "metadata": {},
   "outputs": [
    {
     "name": "stdout",
     "output_type": "stream",
     "text": [
      "BTC 현재가: 137900000.0원\n"
     ]
    }
   ],
   "source": [
    "# 비트코인 현재가 조회\n",
    "ticker_price = pyupbit.get_current_price(ticker)\n",
    "print(f\"BTC 현재가: {ticker_price}원\")"
   ]
  },
  {
   "cell_type": "markdown",
   "metadata": {},
   "source": [
    "### 매수"
   ]
  },
  {
   "cell_type": "code",
   "execution_count": null,
   "metadata": {},
   "outputs": [
    {
     "name": "stdout",
     "output_type": "stream",
     "text": [
      "UnderMinTotalBid\n",
      "None\n"
     ]
    }
   ],
   "source": [
    "# BTC를 50,000원 어치 매수\n",
    "buy_price = 50000 # 원\n",
    "response = upbit.buy_market_order(ticker, buy_price)\n",
    "print(response)"
   ]
  },
  {
   "cell_type": "markdown",
   "metadata": {},
   "source": [
    "### 매도"
   ]
  },
  {
   "cell_type": "code",
   "execution_count": null,
   "metadata": {},
   "outputs": [],
   "source": [
    "# BTC를 전량 매도\n",
    "response = upbit.sell_market_order(\"KRW-BTC\", upbit.get_balance(\"KRW-BTC\"))\n",
    "print(response)"
   ]
  }
 ],
 "metadata": {
  "kernelspec": {
   "display_name": "upbit",
   "language": "python",
   "name": "python3"
  },
  "language_info": {
   "codemirror_mode": {
    "name": "ipython",
    "version": 3
   },
   "file_extension": ".py",
   "mimetype": "text/x-python",
   "name": "python",
   "nbconvert_exporter": "python",
   "pygments_lexer": "ipython3",
   "version": "3.9.20"
  }
 },
 "nbformat": 4,
 "nbformat_minor": 2
}
